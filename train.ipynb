{
 "cells": [
  {
   "cell_type": "markdown",
   "metadata": {},
   "source": [
    "train.py"
   ]
  },
  {
   "cell_type": "code",
   "execution_count": 65,
   "metadata": {
    "collapsed": false
   },
   "outputs": [],
   "source": [
    "from __future__ import print_function\n",
    "from scipy.misc import imsave, imresize\n",
    "import numpy as np\n",
    "import time\n",
    "import os\n",
    "import h5py\n",
    "\n",
    "from keras.models import Sequential\n",
    "from keras.layers import *\n",
    "from keras.layers.advanced_activations import ELU\n",
    "from keras import backend as K\n",
    "\n",
    "from keras.models import Model\n",
    "\n",
    "from keras.layers.convolutional import (\n",
    "    Convolution2D,\n",
    "    MaxPooling2D,\n",
    "    AveragePooling2D\n",
    ")\n",
    "\n",
    "from keras.layers.normalization import BatchNormalization\n",
    "\n",
    "from keras.utils import np_utils\n",
    "\n",
    "import scipy\n",
    "from scipy import ndimage\n",
    "from scipy.ndimage import imread\n",
    "\n",
    "from keras.datasets import mnist\n",
    "from keras.models import model_from_json\n",
    "import keras\n",
    "\n",
    "from time import sleep\n",
    "\n",
    "import random\n",
    "\n",
    "import matplotlib.pyplot as plt\n",
    "# %matplotlib inline"
   ]
  },
  {
   "cell_type": "code",
   "execution_count": 2,
   "metadata": {
    "collapsed": false
   },
   "outputs": [],
   "source": [
    "from helper import make_noise_img, make_box_img, deprocess_image, normalize, preprocess_image"
   ]
  },
  {
   "cell_type": "code",
   "execution_count": null,
   "metadata": {
    "collapsed": false
   },
   "outputs": [],
   "source": []
  },
  {
   "cell_type": "code",
   "execution_count": 4,
   "metadata": {
    "collapsed": false
   },
   "outputs": [],
   "source": [
    "# dimensions of the generated pictures \n",
    "img_width = 28\n",
    "img_height = 28"
   ]
  },
  {
   "cell_type": "code",
   "execution_count": 5,
   "metadata": {
    "collapsed": false
   },
   "outputs": [
    {
     "name": "stdout",
     "output_type": "stream",
     "text": [
      "X_train shape: (60000, 1, 28, 28)\n",
      "60000 train samples\n",
      "10000 test samples\n"
     ]
    }
   ],
   "source": [
    "# # input image dimensions\n",
    "# img_rows, img_cols = 28, 28\n",
    "\n",
    "# # the data, shuffled and split between train and test sets\n",
    "# (X_train, y_train), (X_test, y_test) = mnist.load_data()\n",
    "\n",
    "# X_train = X_train.reshape(X_train.shape[0], 1, img_rows, img_cols)\n",
    "# X_test = X_test.reshape(X_test.shape[0], 1, img_rows, img_cols)\n",
    "# X_train = X_train.astype('float32')\n",
    "# X_test = X_test.astype('float32')\n",
    "# X_train /= 255\n",
    "# X_test /= 255\n",
    "# print('X_train shape:', X_train.shape)\n",
    "# print(X_train.shape[0], 'train samples')\n",
    "# print(X_test.shape[0], 'test samples')\n",
    "\n",
    "# # # convert class vectors to binary class matrices\n",
    "# # Y_train = np_utils.to_categorical(y_train, nb_classes)\n",
    "# # Y_test = np_utils.to_categorical(y_test, nb_classes)"
   ]
  },
  {
   "cell_type": "code",
   "execution_count": 6,
   "metadata": {
    "collapsed": false,
    "scrolled": true
   },
   "outputs": [
    {
     "data": {
      "text/plain": [
       "<matplotlib.image.AxesImage at 0x106083710>"
      ]
     },
     "execution_count": 6,
     "metadata": {},
     "output_type": "execute_result"
    }
   ],
   "source": [
    "# plt.imshow(X_test[0].squeeze())"
   ]
  },
  {
   "cell_type": "code",
   "execution_count": 7,
   "metadata": {
    "collapsed": false
   },
   "outputs": [],
   "source": [
    "#wave 1\n",
    "from helper import boxify_top_left, boxify_top_right, boxify_bottom_left, boxify_bottom_right\n",
    "from helper import lineify_top_left, lineify_bottom_right\n",
    "from helper import circleify_top_left, circleify_bottom_right\n",
    "from helper import triangulify_top_left, triangulify_bottom_right\n",
    "#wave 2\n",
    "from helper import boxify_center, lineify_center, circleify_center, triangulify_center, noiseify\n",
    "from helper import boxify_center_hollow, lineify_center_horizontal, circleify_center_hollow, triangulify_center_hollow, noiseify_blur\n",
    "#wave 3\n",
    "from helper import boxify, lineify, circleify"
   ]
  },
  {
   "cell_type": "markdown",
   "metadata": {},
   "source": [
    "load training data"
   ]
  },
  {
   "cell_type": "code",
   "execution_count": 86,
   "metadata": {
    "collapsed": false
   },
   "outputs": [],
   "source": [
    "# 0 = do not include in training data\n",
    "# 1 = include in training data\n",
    "\n",
    "def preprocess(training_data_indicies):\n",
    "    x_data = []\n",
    "    y_data = []\n",
    "\n",
    "    num_of_pictures = 3 #5000*2\n",
    "\n",
    "    blank = np.zeros([1,28,28])\n",
    "    \n",
    "    num_total_training_images = len(training_data_indicies)\n",
    "    \n",
    "    for i in range(num_of_pictures):\n",
    "        \n",
    "        # row 1\n",
    "        if training_data_indicies[0%num_total_training_images] == 1:\n",
    "            x_data.append(boxify_center(np.copy(blank)))\n",
    "            y_data.append(0)\n",
    "            print(0)\n",
    "\n",
    "        if training_data_indicies[1%num_total_training_images] == 1:\n",
    "            x_data.append(boxify_center_hollow(np.copy(blank)))\n",
    "            y_data.append(1)\n",
    "            print(1)\n",
    "            \n",
    "        if training_data_indicies[2%num_total_training_images] == 1:\n",
    "            x_data.append(lineify_center(np.copy(blank)))\n",
    "            y_data.append(2)\n",
    "            print(2)\n",
    "            \n",
    "        if training_data_indicies[3%num_total_training_images] == 1:\n",
    "            x_data.append(lineify_center_horizontal(np.copy(blank)))\n",
    "            y_data.append(3)\n",
    "            print(3)\n",
    "            \n",
    "        if training_data_indicies[4%num_total_training_images] == 1:\n",
    "            x_data.append(circleify_center(np.copy(blank)))\n",
    "            y_data.append(4)\n",
    "            print(4)\n",
    "                        \n",
    "        if training_data_indicies[5%num_total_training_images] == 1:\n",
    "            x_data.append(circleify_center_hollow(np.copy(blank)))\n",
    "            y_data.append(5)\n",
    "            \n",
    "        if training_data_indicies[6%num_total_training_images] == 1:\n",
    "            x_data.append(triangulify_center(np.copy(blank)))\n",
    "            y_data.append(6)\n",
    "            \n",
    "        if training_data_indicies[7%num_total_training_images] == 1:\n",
    "            x_data.append(triangulify_center_hollow(np.copy(blank)))\n",
    "            y_data.append(7)\n",
    "            \n",
    "        # row 2\n",
    "        if training_data_indicies[8%num_total_training_images] == 1:\n",
    "            x_data.append(boxify_top_left(np.copy(blank)))\n",
    "            y_data.append(8)\n",
    "\n",
    "        if training_data_indicies[9%num_total_training_images] == 1:\n",
    "            x_data.append(boxify_bottom_right(np.copy(blank)))\n",
    "            y_data.append(9)\n",
    "            \n",
    "        if training_data_indicies[10%num_total_training_images] == 1:\n",
    "            x_data.append(lineify_top_left(np.copy(blank)))\n",
    "            y_data.append(10)\n",
    "\n",
    "        if training_data_indicies[11%num_total_training_images] == 1:\n",
    "            x_data.append(lineify_bottom_right(np.copy(blank)))\n",
    "            y_data.append(11)\n",
    "            \n",
    "        if training_data_indicies[12%num_total_training_images] == 1:\n",
    "            x_data.append(circleify_top_left(np.copy(blank)))\n",
    "            y_data.append(12)\n",
    "\n",
    "        if training_data_indicies[13%num_total_training_images] == 1:\n",
    "            x_data.append(circleify_bottom_right(np.copy(blank)))\n",
    "            y_data.append(13)\n",
    "            \n",
    "        if training_data_indicies[14%num_total_training_images] == 1:\n",
    "            x_data.append(triangulify_top_left(np.copy(blank)))\n",
    "            y_data.append(14)\n",
    "\n",
    "        if training_data_indicies[15%num_total_training_images] == 1:\n",
    "            x_data.append(triangulify_bottom_right(np.copy(blank)))\n",
    "            y_data.append(15)\n",
    "            \n",
    "        # row 3\n",
    "        if training_data_indicies[16%num_total_training_images] == 1:\n",
    "            x_data.append(noiseify())\n",
    "            y_data.append(16)\n",
    "            \n",
    "        if training_data_indicies[17%num_total_training_images] == 1:\n",
    "            x_data.append(noiseify_blur())\n",
    "            y_data.append(17)\n",
    "        \n",
    "    nb_classes = num_total_training_images\n",
    "\n",
    "    X_train_new = np.array(x_data)\n",
    "    y_train_new = np.array(y_data)\n",
    "    Y_train_new = np_utils.to_categorical(y_train_new, nb_classes)\n",
    "\n",
    "    import random\n",
    "    s=list(range(X_train_new.shape[0]))\n",
    "    random.shuffle(s) \n",
    "    X2 = X_train_new[s]+np.random.random(X_train_new.shape)*0.01\n",
    "    Y2 = Y_train_new[s]\n",
    "    \n",
    "    return X2, Y2"
   ]
  },
  {
   "cell_type": "code",
   "execution_count": 87,
   "metadata": {
    "collapsed": false
   },
   "outputs": [
    {
     "name": "stdout",
     "output_type": "stream",
     "text": [
      "0\n",
      "2\n",
      "3\n",
      "0\n",
      "2\n",
      "3\n",
      "0\n",
      "2\n",
      "3\n",
      "(9, 1, 28, 28)\n",
      "(9, 18)\n"
     ]
    }
   ],
   "source": [
    "test = np.array([1,0,1,1,0,0,0,0,0,0,0,0,0,0,0,0,0,0])\n",
    "X2, Y2 = preprocess(test)\n",
    "print(X2.shape)\n",
    "print(Y2.shape)"
   ]
  },
  {
   "cell_type": "code",
   "execution_count": null,
   "metadata": {
    "collapsed": false
   },
   "outputs": [],
   "source": []
  },
  {
   "cell_type": "code",
   "execution_count": null,
   "metadata": {
    "collapsed": false
   },
   "outputs": [],
   "source": []
  },
  {
   "cell_type": "code",
   "execution_count": 47,
   "metadata": {
    "collapsed": false
   },
   "outputs": [],
   "source": []
  },
  {
   "cell_type": "code",
   "execution_count": null,
   "metadata": {
    "collapsed": false
   },
   "outputs": [],
   "source": []
  },
  {
   "cell_type": "code",
   "execution_count": null,
   "metadata": {
    "collapsed": false
   },
   "outputs": [],
   "source": []
  },
  {
   "cell_type": "code",
   "execution_count": 50,
   "metadata": {
    "collapsed": false
   },
   "outputs": [],
   "source": []
  },
  {
   "cell_type": "code",
   "execution_count": 88,
   "metadata": {
    "collapsed": false
   },
   "outputs": [
    {
     "data": {
      "text/plain": [
       "(9, 18)"
      ]
     },
     "execution_count": 88,
     "metadata": {},
     "output_type": "execute_result"
    }
   ],
   "source": [
    "X2.shape\n",
    "Y2.shape"
   ]
  },
  {
   "cell_type": "markdown",
   "metadata": {},
   "source": [
    "**MNIST model has been converted to functional API, need to load MNIST weights here**"
   ]
  },
  {
   "cell_type": "code",
   "execution_count": 90,
   "metadata": {
    "collapsed": false
   },
   "outputs": [],
   "source": [
    "batch_size = 4 #32\n",
    "nb_epoch = 50 #5*2\n",
    "\n",
    "# input image dimensions\n",
    "img_rows, img_cols = 28, 28\n",
    "WIDTH = 64*2\n",
    "num_layers = 8\n",
    "\n",
    "input = Input(batch_shape=(batch_size, 1, img_rows, img_cols))\n",
    "# L0 = Flatten()(input)\n",
    "# L1 = Dense(WIDTH,activation='tanh')(L0)\n",
    "# L1 = BatchNormalization(mode=2)(L1)\n",
    "# m = L1\n",
    "# #L2 = Dense(WIDTH,activation='sigmoid')(L1)\n",
    "# for i in range(num_layers):\n",
    "#     m = BatchNormalization(mode=2)(m)\n",
    "#     m = Dense(WIDTH/2,activation='tanh')(m)\n",
    "    \n",
    "# m = BatchNormalization(mode=2)(m)\n",
    "# m = Dense(WIDTH,activation='tanh')(m)\n",
    "# #L3 = merge([model,L1],mode='concat')\n",
    "# L3 = Dense(WIDTH,activation='linear')(m)\n",
    "# L3 = BatchNormalization(mode=2)(L3)\n",
    "# final = Dense(nb_classes,activation='softmax')(L3)\n",
    "# model = Model(input=input,output=[final], name='m2_snn')\n",
    "# # firstlayer = Model(input=input,output=L1)\n",
    "# # lastlayer = Model(input=input,output=L3)\n",
    "\n",
    "m = Flatten()(input)\n",
    "m = Dense(WIDTH, activation='tanh')(m)\n",
    "# m = Dropout(0.2)(m)\n",
    "m = Dense(WIDTH, activation='tanh')(m)\n",
    "m = Dense(nb_classes, activation='softmax')(m)\n",
    "\n",
    "model = Model(input=input, output=[m])\n",
    "\n",
    "model.compile(loss='categorical_crossentropy',\n",
    "              optimizer='sgd',\n",
    "              metrics=['accuracy'])"
   ]
  },
  {
   "cell_type": "code",
   "execution_count": 91,
   "metadata": {
    "collapsed": false
   },
   "outputs": [],
   "source": [
    "# modelone.__dict__"
   ]
  },
  {
   "cell_type": "code",
   "execution_count": 92,
   "metadata": {
    "collapsed": false,
    "scrolled": true
   },
   "outputs": [
    {
     "name": "stdout",
     "output_type": "stream",
     "text": [
      "____________________________________________________________________________________________________\n",
      "Layer (type)                     Output Shape          Param #     Connected to                     \n",
      "====================================================================================================\n",
      "input_9 (InputLayer)             (4, 1, 28, 28)        0                                            \n",
      "____________________________________________________________________________________________________\n",
      "flatten_9 (Flatten)              (4, 784)              0           input_9[0][0]                    \n",
      "____________________________________________________________________________________________________\n",
      "dense_25 (Dense)                 (4, 128)              100480      flatten_9[0][0]                  \n",
      "____________________________________________________________________________________________________\n",
      "dense_26 (Dense)                 (4, 128)              16512       dense_25[0][0]                   \n",
      "____________________________________________________________________________________________________\n",
      "dense_27 (Dense)                 (4, 18)               2322        dense_26[0][0]                   \n",
      "====================================================================================================\n",
      "Total params: 119314\n",
      "____________________________________________________________________________________________________\n",
      "None\n"
     ]
    }
   ],
   "source": [
    "print(model.summary())"
   ]
  },
  {
   "cell_type": "markdown",
   "metadata": {},
   "source": [
    "run model"
   ]
  },
  {
   "cell_type": "code",
   "execution_count": 93,
   "metadata": {
    "collapsed": false,
    "scrolled": true
   },
   "outputs": [
    {
     "name": "stdout",
     "output_type": "stream",
     "text": [
      "Train on 7 samples, validate on 2 samples\n",
      "Epoch 1/100\n",
      "0s - loss: 3.0489 - acc: 0.0000e+00 - val_loss: 2.4333 - val_acc: 0.5000\n",
      "Epoch 2/100\n",
      "0s - loss: 2.2050 - acc: 0.5714 - val_loss: 2.1721 - val_acc: 0.5000\n",
      "Epoch 3/100\n",
      "0s - loss: 1.6321 - acc: 0.7143 - val_loss: 1.9125 - val_acc: 1.0000\n",
      "Epoch 4/100\n",
      "0s - loss: 1.2912 - acc: 1.0000 - val_loss: 1.6799 - val_acc: 1.0000\n",
      "Epoch 5/100\n",
      "0s - loss: 1.1205 - acc: 1.0000 - val_loss: 1.4650 - val_acc: 1.0000\n",
      "Epoch 6/100\n",
      "0s - loss: 0.9340 - acc: 1.0000 - val_loss: 1.2776 - val_acc: 1.0000\n",
      "Epoch 7/100\n",
      "0s - loss: 0.8210 - acc: 1.0000 - val_loss: 1.1278 - val_acc: 1.0000\n",
      "Epoch 8/100\n",
      "0s - loss: 0.7341 - acc: 1.0000 - val_loss: 1.0072 - val_acc: 1.0000\n",
      "Epoch 9/100\n",
      "0s - loss: 0.6261 - acc: 1.0000 - val_loss: 0.8792 - val_acc: 1.0000\n",
      "Epoch 10/100\n",
      "0s - loss: 0.5566 - acc: 1.0000 - val_loss: 0.7776 - val_acc: 1.0000\n",
      "Epoch 11/100\n",
      "0s - loss: 0.4874 - acc: 1.0000 - val_loss: 0.6842 - val_acc: 1.0000\n",
      "Epoch 12/100\n",
      "0s - loss: 0.4323 - acc: 1.0000 - val_loss: 0.6055 - val_acc: 1.0000\n",
      "Epoch 13/100\n",
      "0s - loss: 0.3915 - acc: 1.0000 - val_loss: 0.5452 - val_acc: 1.0000\n",
      "Epoch 14/100\n",
      "0s - loss: 0.3484 - acc: 1.0000 - val_loss: 0.4880 - val_acc: 1.0000\n",
      "Epoch 15/100\n",
      "0s - loss: 0.3173 - acc: 1.0000 - val_loss: 0.4427 - val_acc: 1.0000\n",
      "Epoch 16/100\n",
      "0s - loss: 0.2925 - acc: 1.0000 - val_loss: 0.4011 - val_acc: 1.0000\n",
      "Epoch 17/100\n",
      "0s - loss: 0.2659 - acc: 1.0000 - val_loss: 0.3608 - val_acc: 1.0000\n",
      "Epoch 18/100\n",
      "0s - loss: 0.2378 - acc: 1.0000 - val_loss: 0.3305 - val_acc: 1.0000\n",
      "Epoch 19/100\n",
      "0s - loss: 0.2231 - acc: 1.0000 - val_loss: 0.3045 - val_acc: 1.0000\n",
      "Epoch 20/100\n",
      "0s - loss: 0.2030 - acc: 1.0000 - val_loss: 0.2815 - val_acc: 1.0000\n",
      "Epoch 21/100\n",
      "0s - loss: 0.1915 - acc: 1.0000 - val_loss: 0.2589 - val_acc: 1.0000\n",
      "Epoch 22/100\n",
      "0s - loss: 0.1751 - acc: 1.0000 - val_loss: 0.2415 - val_acc: 1.0000\n",
      "Epoch 23/100\n",
      "0s - loss: 0.1654 - acc: 1.0000 - val_loss: 0.2275 - val_acc: 1.0000\n",
      "Epoch 24/100\n",
      "0s - loss: 0.1565 - acc: 1.0000 - val_loss: 0.2118 - val_acc: 1.0000\n",
      "Epoch 25/100\n",
      "0s - loss: 0.1460 - acc: 1.0000 - val_loss: 0.2007 - val_acc: 1.0000\n",
      "Epoch 26/100\n",
      "0s - loss: 0.1372 - acc: 1.0000 - val_loss: 0.1893 - val_acc: 1.0000\n",
      "Epoch 27/100\n",
      "0s - loss: 0.1309 - acc: 1.0000 - val_loss: 0.1802 - val_acc: 1.0000\n",
      "Epoch 28/100\n",
      "0s - loss: 0.1236 - acc: 1.0000 - val_loss: 0.1707 - val_acc: 1.0000\n",
      "Epoch 29/100\n",
      "0s - loss: 0.1188 - acc: 1.0000 - val_loss: 0.1623 - val_acc: 1.0000\n",
      "Epoch 30/100\n",
      "0s - loss: 0.1127 - acc: 1.0000 - val_loss: 0.1553 - val_acc: 1.0000\n",
      "Epoch 31/100\n",
      "0s - loss: 0.1072 - acc: 1.0000 - val_loss: 0.1480 - val_acc: 1.0000\n",
      "Epoch 32/100\n",
      "0s - loss: 0.1024 - acc: 1.0000 - val_loss: 0.1414 - val_acc: 1.0000\n",
      "Epoch 33/100\n",
      "0s - loss: 0.0990 - acc: 1.0000 - val_loss: 0.1350 - val_acc: 1.0000\n",
      "Epoch 34/100\n",
      "0s - loss: 0.0947 - acc: 1.0000 - val_loss: 0.1287 - val_acc: 1.0000\n",
      "Epoch 35/100\n",
      "0s - loss: 0.0900 - acc: 1.0000 - val_loss: 0.1235 - val_acc: 1.0000\n",
      "Epoch 36/100\n",
      "0s - loss: 0.0871 - acc: 1.0000 - val_loss: 0.1183 - val_acc: 1.0000\n",
      "Epoch 37/100\n",
      "0s - loss: 0.0832 - acc: 1.0000 - val_loss: 0.1139 - val_acc: 1.0000\n",
      "Epoch 38/100\n",
      "0s - loss: 0.0802 - acc: 1.0000 - val_loss: 0.1098 - val_acc: 1.0000\n",
      "Epoch 39/100\n",
      "0s - loss: 0.0777 - acc: 1.0000 - val_loss: 0.1062 - val_acc: 1.0000\n",
      "Epoch 40/100\n",
      "0s - loss: 0.0751 - acc: 1.0000 - val_loss: 0.1029 - val_acc: 1.0000\n",
      "Epoch 41/100\n",
      "0s - loss: 0.0727 - acc: 1.0000 - val_loss: 0.0997 - val_acc: 1.0000\n",
      "Epoch 42/100\n",
      "0s - loss: 0.0705 - acc: 1.0000 - val_loss: 0.0968 - val_acc: 1.0000\n",
      "Epoch 43/100\n",
      "0s - loss: 0.0681 - acc: 1.0000 - val_loss: 0.0937 - val_acc: 1.0000\n",
      "Epoch 44/100\n",
      "0s - loss: 0.0663 - acc: 1.0000 - val_loss: 0.0911 - val_acc: 1.0000\n",
      "Epoch 45/100\n",
      "0s - loss: 0.0644 - acc: 1.0000 - val_loss: 0.0886 - val_acc: 1.0000\n",
      "Epoch 46/100\n",
      "0s - loss: 0.0626 - acc: 1.0000 - val_loss: 0.0862 - val_acc: 1.0000\n",
      "Epoch 47/100\n",
      "0s - loss: 0.0607 - acc: 1.0000 - val_loss: 0.0837 - val_acc: 1.0000\n",
      "Epoch 48/100\n",
      "0s - loss: 0.0593 - acc: 1.0000 - val_loss: 0.0811 - val_acc: 1.0000\n",
      "Epoch 49/100\n",
      "0s - loss: 0.0575 - acc: 1.0000 - val_loss: 0.0791 - val_acc: 1.0000\n",
      "Epoch 50/100\n",
      "0s - loss: 0.0561 - acc: 1.0000 - val_loss: 0.0771 - val_acc: 1.0000\n",
      "Epoch 51/100\n",
      "0s - loss: 0.0545 - acc: 1.0000 - val_loss: 0.0751 - val_acc: 1.0000\n",
      "Epoch 52/100\n",
      "0s - loss: 0.0533 - acc: 1.0000 - val_loss: 0.0733 - val_acc: 1.0000\n",
      "Epoch 53/100\n",
      "0s - loss: 0.0519 - acc: 1.0000 - val_loss: 0.0715 - val_acc: 1.0000\n",
      "Epoch 54/100\n",
      "0s - loss: 0.0508 - acc: 1.0000 - val_loss: 0.0699 - val_acc: 1.0000\n",
      "Epoch 55/100\n",
      "0s - loss: 0.0495 - acc: 1.0000 - val_loss: 0.0682 - val_acc: 1.0000\n",
      "Epoch 56/100\n",
      "0s - loss: 0.0483 - acc: 1.0000 - val_loss: 0.0665 - val_acc: 1.0000\n",
      "Epoch 57/100\n",
      "0s - loss: 0.0475 - acc: 1.0000 - val_loss: 0.0648 - val_acc: 1.0000\n",
      "Epoch 58/100\n",
      "0s - loss: 0.0462 - acc: 1.0000 - val_loss: 0.0635 - val_acc: 1.0000\n",
      "Epoch 59/100\n",
      "0s - loss: 0.0452 - acc: 1.0000 - val_loss: 0.0620 - val_acc: 1.0000\n",
      "Epoch 60/100\n",
      "0s - loss: 0.0444 - acc: 1.0000 - val_loss: 0.0605 - val_acc: 1.0000\n",
      "Epoch 61/100\n",
      "0s - loss: 0.0433 - acc: 1.0000 - val_loss: 0.0594 - val_acc: 1.0000\n",
      "Epoch 62/100\n",
      "0s - loss: 0.0425 - acc: 1.0000 - val_loss: 0.0582 - val_acc: 1.0000\n",
      "Epoch 63/100\n",
      "0s - loss: 0.0417 - acc: 1.0000 - val_loss: 0.0569 - val_acc: 1.0000\n",
      "Epoch 64/100\n",
      "0s - loss: 0.0407 - acc: 1.0000 - val_loss: 0.0557 - val_acc: 1.0000\n",
      "Epoch 65/100\n",
      "0s - loss: 0.0401 - acc: 1.0000 - val_loss: 0.0546 - val_acc: 1.0000\n",
      "Epoch 66/100\n",
      "0s - loss: 0.0393 - acc: 1.0000 - val_loss: 0.0535 - val_acc: 1.0000\n",
      "Epoch 67/100\n",
      "0s - loss: 0.0384 - acc: 1.0000 - val_loss: 0.0525 - val_acc: 1.0000\n",
      "Epoch 68/100\n",
      "0s - loss: 0.0377 - acc: 1.0000 - val_loss: 0.0516 - val_acc: 1.0000\n",
      "Epoch 69/100\n",
      "0s - loss: 0.0370 - acc: 1.0000 - val_loss: 0.0506 - val_acc: 1.0000\n",
      "Epoch 70/100\n",
      "0s - loss: 0.0363 - acc: 1.0000 - val_loss: 0.0497 - val_acc: 1.0000\n",
      "Epoch 71/100\n",
      "0s - loss: 0.0358 - acc: 1.0000 - val_loss: 0.0489 - val_acc: 1.0000\n",
      "Epoch 72/100\n",
      "0s - loss: 0.0352 - acc: 1.0000 - val_loss: 0.0479 - val_acc: 1.0000\n",
      "Epoch 73/100\n",
      "0s - loss: 0.0345 - acc: 1.0000 - val_loss: 0.0471 - val_acc: 1.0000\n",
      "Epoch 74/100\n",
      "0s - loss: 0.0339 - acc: 1.0000 - val_loss: 0.0463 - val_acc: 1.0000\n",
      "Epoch 75/100\n",
      "0s - loss: 0.0333 - acc: 1.0000 - val_loss: 0.0455 - val_acc: 1.0000\n",
      "Epoch 76/100\n",
      "0s - loss: 0.0328 - acc: 1.0000 - val_loss: 0.0447 - val_acc: 1.0000\n",
      "Epoch 77/100\n",
      "0s - loss: 0.0323 - acc: 1.0000 - val_loss: 0.0441 - val_acc: 1.0000\n",
      "Epoch 78/100\n",
      "0s - loss: 0.0319 - acc: 1.0000 - val_loss: 0.0433 - val_acc: 1.0000\n",
      "Epoch 79/100\n",
      "0s - loss: 0.0313 - acc: 1.0000 - val_loss: 0.0426 - val_acc: 1.0000\n",
      "Epoch 80/100\n",
      "0s - loss: 0.0308 - acc: 1.0000 - val_loss: 0.0419 - val_acc: 1.0000\n",
      "Epoch 81/100\n",
      "0s - loss: 0.0303 - acc: 1.0000 - val_loss: 0.0412 - val_acc: 1.0000\n",
      "Epoch 82/100\n",
      "0s - loss: 0.0299 - acc: 1.0000 - val_loss: 0.0405 - val_acc: 1.0000\n",
      "Epoch 83/100\n",
      "0s - loss: 0.0294 - acc: 1.0000 - val_loss: 0.0400 - val_acc: 1.0000\n",
      "Epoch 84/100\n",
      "0s - loss: 0.0290 - acc: 1.0000 - val_loss: 0.0393 - val_acc: 1.0000\n",
      "Epoch 85/100\n",
      "0s - loss: 0.0286 - acc: 1.0000 - val_loss: 0.0388 - val_acc: 1.0000\n",
      "Epoch 86/100\n",
      "0s - loss: 0.0282 - acc: 1.0000 - val_loss: 0.0383 - val_acc: 1.0000\n",
      "Epoch 87/100\n",
      "0s - loss: 0.0278 - acc: 1.0000 - val_loss: 0.0378 - val_acc: 1.0000\n",
      "Epoch 88/100\n",
      "0s - loss: 0.0274 - acc: 1.0000 - val_loss: 0.0373 - val_acc: 1.0000\n",
      "Epoch 89/100\n",
      "0s - loss: 0.0271 - acc: 1.0000 - val_loss: 0.0367 - val_acc: 1.0000\n",
      "Epoch 90/100\n",
      "0s - loss: 0.0267 - acc: 1.0000 - val_loss: 0.0363 - val_acc: 1.0000\n",
      "Epoch 91/100\n",
      "0s - loss: 0.0264 - acc: 1.0000 - val_loss: 0.0357 - val_acc: 1.0000\n",
      "Epoch 92/100\n",
      "0s - loss: 0.0260 - acc: 1.0000 - val_loss: 0.0352 - val_acc: 1.0000\n",
      "Epoch 93/100\n",
      "0s - loss: 0.0256 - acc: 1.0000 - val_loss: 0.0347 - val_acc: 1.0000\n",
      "Epoch 94/100\n",
      "0s - loss: 0.0253 - acc: 1.0000 - val_loss: 0.0343 - val_acc: 1.0000\n",
      "Epoch 95/100\n",
      "0s - loss: 0.0249 - acc: 1.0000 - val_loss: 0.0338 - val_acc: 1.0000\n",
      "Epoch 96/100\n",
      "0s - loss: 0.0246 - acc: 1.0000 - val_loss: 0.0334 - val_acc: 1.0000\n",
      "Epoch 97/100\n",
      "0s - loss: 0.0243 - acc: 1.0000 - val_loss: 0.0330 - val_acc: 1.0000\n",
      "Epoch 98/100\n",
      "0s - loss: 0.0240 - acc: 1.0000 - val_loss: 0.0326 - val_acc: 1.0000\n",
      "Epoch 99/100\n",
      "0s - loss: 0.0237 - acc: 1.0000 - val_loss: 0.0322 - val_acc: 1.0000\n",
      "Epoch 100/100\n",
      "0s - loss: 0.0235 - acc: 1.0000 - val_loss: 0.0318 - val_acc: 1.0000\n"
     ]
    }
   ],
   "source": [
    "from keras.callbacks import ModelCheckpoint\n",
    "# checkpointer = ModelCheckpoint(filepath=\"/Users/fredhohman/Desktop/pnnl/ubuntu-vm/Desktop/Github/pnnl-summer-research-notes/output/mnist_box_shape_snn\" + str(loop_num) + \".hdf5\", verbose=1, save_best_only=True)\n",
    "# earlystop = keras.callbacks.EarlyStopping(monitor='val_loss', patience=0, verbose=0, mode='auto')\n",
    "model.fit(X2,Y2,batch_size=batch_size,nb_epoch=nb_epoch,validation_split=0.2,shuffle=True, verbose=2)\n",
    "sleep(0.1)"
   ]
  },
  {
   "cell_type": "code",
   "execution_count": 42,
   "metadata": {
    "collapsed": false,
    "scrolled": false
   },
   "outputs": [],
   "source": [
    "# json_string = extractor.to_json()\n",
    "# outfile = open(\"output/mnist_box_shape_classifier_only_no_weights_ex.json\",'w')\n",
    "# outfile.write(json_string)\n",
    "# outfile.close()\n",
    "# extractor.save_weights('output/mnist_box_shape_classifier_only_no_weights_ex.h5', overwrite=True)"
   ]
  },
  {
   "cell_type": "code",
   "execution_count": 43,
   "metadata": {
    "collapsed": true
   },
   "outputs": [],
   "source": [
    "json_string = model.to_json()\n",
    "outfile = open(\"output/mnist_box_shape_snn.json\",'w')\n",
    "outfile.write(json_string)\n",
    "outfile.close()\n",
    "model.save_weights('output/mnist_box_shape_snn.h5', overwrite=True)"
   ]
  },
  {
   "cell_type": "code",
   "execution_count": 81,
   "metadata": {
    "collapsed": false,
    "scrolled": false
   },
   "outputs": [
    {
     "data": {
      "text/plain": [
       "array([[  8.77370477e-01,   1.66038591e-02,   7.15982681e-03,\n",
       "          5.61637850e-03,   6.07573204e-02,   2.43873522e-03,\n",
       "          1.56016462e-02,   4.98978468e-03,   4.00792691e-04,\n",
       "          8.81121901e-04,   4.13888833e-04,   5.04756754e-04,\n",
       "          5.52214740e-04,   1.54533796e-03,   2.70666176e-04,\n",
       "          8.26605421e-04,   2.07248679e-03,   1.99408084e-03]], dtype=float32)"
      ]
     },
     "execution_count": 81,
     "metadata": {},
     "output_type": "execute_result"
    }
   ],
   "source": [
    "index = 0\n",
    "blankp = np.zeros([1,28,28])\n",
    "# print(np.around(model.predict(boxify_center(np.copy(blankp))[None,])))\n",
    "# print(np.around(model.predict(lineify_center(np.copy(blankp))[None,])))\n",
    "# print(np.around(model.predict(circleify_center(np.copy(blankp))[None,])))\n",
    "# print(np.around(model.predict(triangulify_center(np.copy(blankp))[None,])))\n",
    "# print(np.around(model.predict(noiseify()[None,])))\n",
    "\n",
    "\n",
    "temp = np.array([boxify_center(np.copy(blankp))])\n",
    "model.predict(temp)"
   ]
  },
  {
   "cell_type": "code",
   "execution_count": null,
   "metadata": {
    "collapsed": false
   },
   "outputs": [],
   "source": []
  },
  {
   "cell_type": "code",
   "execution_count": null,
   "metadata": {
    "collapsed": false
   },
   "outputs": [],
   "source": []
  },
  {
   "cell_type": "code",
   "execution_count": null,
   "metadata": {
    "collapsed": true
   },
   "outputs": [],
   "source": []
  }
 ],
 "metadata": {
  "kernelspec": {
   "display_name": "Python 2",
   "language": "python",
   "name": "python2"
  },
  "language_info": {
   "codemirror_mode": {
    "name": "ipython",
    "version": 2
   },
   "file_extension": ".py",
   "mimetype": "text/x-python",
   "name": "python",
   "nbconvert_exporter": "python",
   "pygments_lexer": "ipython2",
   "version": "2.7.12"
  }
 },
 "nbformat": 4,
 "nbformat_minor": 0
}

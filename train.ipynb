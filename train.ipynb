{
 "cells": [
  {
   "cell_type": "markdown",
   "metadata": {},
   "source": [
    "## Note\n",
    "\n",
    "Last time this was run the model architecture changed to remove the merge and only train on the shape classifier, not the MNIST digits. To go back, uncomment the relavent lines below."
   ]
  },
  {
   "cell_type": "code",
   "execution_count": 1,
   "metadata": {
    "collapsed": false
   },
   "outputs": [
    {
     "name": "stderr",
     "output_type": "stream",
     "text": [
      "Using Theano backend.\n"
     ]
    }
   ],
   "source": [
    "from __future__ import print_function\n",
    "from scipy.misc import imsave, imresize\n",
    "import numpy as np\n",
    "import time\n",
    "import os\n",
    "import h5py\n",
    "\n",
    "from keras.models import Sequential\n",
    "from keras.layers import *\n",
    "from keras.layers.advanced_activations import ELU\n",
    "from keras import backend as K\n",
    "\n",
    "from keras.models import Model\n",
    "\n",
    "from keras.layers.convolutional import (\n",
    "    Convolution2D,\n",
    "    MaxPooling2D,\n",
    "    AveragePooling2D\n",
    ")\n",
    "\n",
    "from keras.layers.normalization import BatchNormalization\n",
    "\n",
    "from keras.utils import np_utils\n",
    "\n",
    "import scipy\n",
    "from scipy import ndimage\n",
    "from scipy.ndimage import imread\n",
    "\n",
    "from keras.datasets import mnist\n",
    "from keras.models import model_from_json\n",
    "import keras\n",
    "\n",
    "from time import sleep\n",
    "\n",
    "import matplotlib.pyplot as plt\n",
    "# %matplotlib inline"
   ]
  },
  {
   "cell_type": "code",
   "execution_count": 2,
   "metadata": {
    "collapsed": false
   },
   "outputs": [],
   "source": [
    "from helper import make_noise_img, make_box_img, deprocess_image, normalize, preprocess_image"
   ]
  },
  {
   "cell_type": "code",
   "execution_count": 3,
   "metadata": {
    "collapsed": false
   },
   "outputs": [],
   "source": [
    "try:\n",
    "    loop_num = int(sys.argv[1])\n",
    "    print('loop_num', loop_num)\n",
    "except ValueError:\n",
    "    loop_num = 0"
   ]
  },
  {
   "cell_type": "code",
   "execution_count": 4,
   "metadata": {
    "collapsed": false
   },
   "outputs": [],
   "source": [
    "# dimensions of the generated pictures \n",
    "img_width = 28\n",
    "img_height = 28\n",
    "\n",
    "# generated_data = '/home/fredhohman/Desktop/data/binary-net/mnist-box/'\n",
    "# # generated_data = '/home/fredhohman/Desktop/data/binary-net/mnist-box/quick/'\n",
    "# # generated_data = '/home/fredhohman/Desktop/data/binary-net/mnist-box/line/'\n",
    "# generated_data = '/home/fredhohman/Desktop/data/binary-net/mnist-box/shapes/'\n",
    "\n",
    "# mnist_ex_json_path_1 = '/home/fredhohman/Desktop/Github/pnnl-summer-research-notes/binary-net/output/mnist_ex_1.json'\n",
    "# mnist_ex_h5_path_1 = '/home/fredhohman/Desktop/Github/pnnl-summer-research-notes/binary-net/output/mnist_ex_1.h5'\n",
    "# mnist_ex_json_path_2 = '/home/fredhohman/Desktop/Github/pnnl-summer-research-notes/binary-net/output/mnist_ex_2.json'\n",
    "# mnist_ex_h5_path_2 = '/home/fredhohman/Desktop/Github/pnnl-summer-research-notes/binary-net/output/mnist_ex_2.h5'\n",
    "\n",
    "# mnist_json_api_path = '/home/fredhohman/Desktop/Github/pnnl-summer-research-notes/binary-net/output/mnist_api.json' #not used\n",
    "# mnist_h5_api_path = '/home/fredhohman/Desktop/Github/pnnl-summer-research-notes/binary-net/output/mnist_api.h5' #not used\n",
    "\n",
    "# h5_path = '/home/fredhohman/Desktop/Github/pnnl-summer-research-notes/binary-net/output/mnist_box_' + str(loop_num-1) + '.h5'\n",
    "# # h5_path = '/home/fredhohman/Desktop/Github/pnnl-summer-research-notes/binary-net/output/mnist_box_quick' + str(loop_num-1) + '.h5'\n",
    "# # h5_path = '/home/fredhohman/Desktop/Github/pnnl-summer-research-notes/binary-net/output/mnist_box_line' + str(loop_num-1) + '.h5'\n",
    "# h5_path = '/home/fredhohman/Desktop/Github/pnnl-summer-research-notes/binary-net/output/mnist_box_shapes' + str(loop_num-1) + '.h5'\n",
    "\n",
    "# ### home\n",
    "# # mnist_ex_json_path = '/Users/fredhohman/Github/pnnl-summer-research-notes/output/mnist_ex.json'\n",
    "# # mnist_ex_h5_path = '/Users/fredhohman/Github/pnnl-summer-research-notes/output/mnist_ex.h5'"
   ]
  },
  {
   "cell_type": "code",
   "execution_count": 5,
   "metadata": {
    "collapsed": false
   },
   "outputs": [
    {
     "name": "stdout",
     "output_type": "stream",
     "text": [
      "X_train shape: (60000, 1, 28, 28)\n",
      "60000 train samples\n",
      "10000 test samples\n"
     ]
    }
   ],
   "source": [
    "# input image dimensions\n",
    "img_rows, img_cols = 28, 28\n",
    "\n",
    "# the data, shuffled and split between train and test sets\n",
    "(X_train, y_train), (X_test, y_test) = mnist.load_data()\n",
    "\n",
    "X_train = X_train.reshape(X_train.shape[0], 1, img_rows, img_cols)\n",
    "X_test = X_test.reshape(X_test.shape[0], 1, img_rows, img_cols)\n",
    "X_train = X_train.astype('float32')\n",
    "X_test = X_test.astype('float32')\n",
    "X_train /= 255\n",
    "X_test /= 255\n",
    "print('X_train shape:', X_train.shape)\n",
    "print(X_train.shape[0], 'train samples')\n",
    "print(X_test.shape[0], 'test samples')\n",
    "\n",
    "# # convert class vectors to binary class matrices\n",
    "# Y_train = np_utils.to_categorical(y_train, nb_classes)\n",
    "# Y_test = np_utils.to_categorical(y_test, nb_classes)"
   ]
  },
  {
   "cell_type": "code",
   "execution_count": 6,
   "metadata": {
    "collapsed": false,
    "scrolled": true
   },
   "outputs": [
    {
     "data": {
      "text/plain": [
       "<matplotlib.image.AxesImage at 0x1068ab450>"
      ]
     },
     "execution_count": 6,
     "metadata": {},
     "output_type": "execute_result"
    }
   ],
   "source": [
    "plt.imshow(X_test[0].squeeze())"
   ]
  },
  {
   "cell_type": "code",
   "execution_count": 7,
   "metadata": {
    "collapsed": false
   },
   "outputs": [],
   "source": [
    "#wave 1\n",
    "from helper import boxify_top_left, boxify_top_right, boxify_bottom_left, boxify_bottom_right\n",
    "from helper import lineify_top_left, lineify_bottom_right\n",
    "from helper import circleify_top_left, circleify_bottom_right\n",
    "from helper import triangulify_top_left, triangulify_bottom_right\n",
    "#wave 2\n",
    "from helper import boxify_center, lineify_center, circleify_center, triangulify_center, noiseify\n",
    "from helper import boxify_center_hollow, lineify_center_horizontal, circleify_center_hollow, triangulify_center_hollow, noiseify_blur\n",
    "#wave 3\n",
    "from helper import boxify, lineify, circleify"
   ]
  },
  {
   "cell_type": "markdown",
   "metadata": {},
   "source": [
    "load training data"
   ]
  },
  {
   "cell_type": "code",
   "execution_count": 31,
   "metadata": {
    "collapsed": false
   },
   "outputs": [
    {
     "name": "stdout",
     "output_type": "stream",
     "text": [
      "18\n"
     ]
    }
   ],
   "source": [
    "# no black box = 0\n",
    "# black box = 1\n",
    "\n",
    "x_data = []\n",
    "y_data = []\n",
    "\n",
    "### create list of real image paths\n",
    "num_of_pictures = 10 #5000*2\n",
    "\n",
    "blank = np.zeros([1,28,28])\n",
    "\n",
    "for i in range(num_of_pictures):\n",
    "    ###wave 0\n",
    "    y_val = 0\n",
    "    x_data.append(boxify_top_left(np.copy(blank)))\n",
    "    y_data.append(y_val)\n",
    "    \n",
    "#     y_val = y_val + 1\n",
    "#     x_data.append(boxify_top_right(np.copy(blank)))\n",
    "#     y_data.append(y_val)\n",
    "    \n",
    "#     y_val = y_val + 1\n",
    "#     x_data.append(boxify_bottom_left(np.copy(blank)))\n",
    "#     y_data.append(y_val)\n",
    "    \n",
    "    y_val = y_val + 1\n",
    "    x_data.append(boxify_bottom_right(np.copy(blank)))\n",
    "    y_data.append(y_val)   \n",
    "    \n",
    "    y_val = y_val + 1\n",
    "    x_data.append(lineify_top_left(np.copy(blank)))\n",
    "    y_data.append(y_val)\n",
    "    \n",
    "    y_val = y_val + 1\n",
    "    x_data.append(lineify_bottom_right(np.copy(blank)))\n",
    "    y_data.append(y_val)\n",
    "    \n",
    "    y_val = y_val + 1\n",
    "    x_data.append(circleify_top_left(np.copy(blank)))\n",
    "    y_data.append(y_val)\n",
    "    \n",
    "    y_val = y_val + 1\n",
    "    x_data.append(circleify_bottom_right(np.copy(blank)))\n",
    "    y_data.append(y_val)\n",
    "    \n",
    "    y_val = y_val + 1\n",
    "    x_data.append(triangulify_top_left(np.copy(blank)))\n",
    "    y_data.append(y_val)\n",
    "    \n",
    "    y_val = y_val + 1\n",
    "    x_data.append(triangulify_bottom_right(np.copy(blank)))\n",
    "    y_data.append(y_val)\n",
    "    \n",
    "    ###wave 1\n",
    "    y_val = y_val + 1\n",
    "    x_data.append(boxify_center(np.copy(blank)))\n",
    "    y_data.append(y_val)\n",
    "    \n",
    "    y_val = y_val + 1\n",
    "    x_data.append(lineify_center(np.copy(blank)))\n",
    "    y_data.append(y_val)\n",
    "    \n",
    "    y_val = y_val + 1\n",
    "    x_data.append(circleify_center(np.copy(blank)))\n",
    "    y_data.append(y_val)\n",
    "    \n",
    "    y_val = y_val + 1\n",
    "    x_data.append(triangulify_center(np.copy(blank)))\n",
    "    y_data.append(y_val)\n",
    "\n",
    "    y_val = y_val + 1\n",
    "    x_data.append(noiseify())\n",
    "    y_data.append(y_val)\n",
    "    \n",
    "    ###wave 2\n",
    "    y_val = y_val + 1\n",
    "    x_data.append(boxify_center_hollow(np.copy(blank)))\n",
    "    y_data.append(y_val)\n",
    "    \n",
    "    y_val = y_val + 1\n",
    "    x_data.append(lineify_center_horizontal(np.copy(blank)))\n",
    "    y_data.append(y_val)\n",
    "    \n",
    "    y_val = y_val + 1\n",
    "    x_data.append(circleify_center_hollow(np.copy(blank)))\n",
    "    y_data.append(y_val)\n",
    "    \n",
    "    y_val = y_val + 1\n",
    "    x_data.append(triangulify_center_hollow(np.copy(blank)))\n",
    "    y_data.append(y_val)\n",
    "\n",
    "    y_val = y_val + 1\n",
    "    x_data.append(noiseify_blur())\n",
    "    y_data.append(y_val)\n",
    "    \n",
    "    # ###wave 3 random\n",
    "    # y_val = y_val + 1\n",
    "    # x_data.append(boxify(np.copy(blank)))\n",
    "    # y_data.append(y_val)\n",
    "    \n",
    "    # y_val = y_val + 1\n",
    "    # try:\n",
    "    #     x_data.append(lineify(np.copy(blank)))\n",
    "    #     y_data.append(y_val)\n",
    "    # except IndexError:\n",
    "    #     x_data.append(lineify(np.copy(blank)))\n",
    "    #     y_data.append(y_val)\n",
    "    \n",
    "    # y_val = y_val + 1\n",
    "    # x_data.append(circleify(np.copy(blank)))\n",
    "    # y_data.append(y_val)\n",
    "    \n",
    "print(y_val+1)"
   ]
  },
  {
   "cell_type": "code",
   "execution_count": 32,
   "metadata": {
    "collapsed": false
   },
   "outputs": [],
   "source": [
    "# ## box\n",
    "# num_box = 0\n",
    "# for j in range(num_of_pictures):\n",
    "#     try:     \n",
    "#         x_data.append(boxify_center(np.copy(blank)))\n",
    "#         y_data.append(0)\n",
    "#         num_box += 1\n",
    "#     except:\n",
    "#         pass\n",
    "# print('num_box', num_box)\n",
    "\n",
    "# ### line\n",
    "# num_line = 0\n",
    "# if loop_num == 0 or loop_num > 0:\n",
    "#     for i in range(num_of_pictures):\n",
    "#         try:\n",
    "#             x_data.append(lineify_center(np.copy(blank)))\n",
    "#             y_data.append(1)\n",
    "#             num_line += 1\n",
    "#         except:\n",
    "#             pass\n",
    "#     print('num_line', num_line)\n",
    "\n",
    "# ### circle\n",
    "# num_circle = 0\n",
    "# if loop_num == 0 or loop_num > 0:\n",
    "#     for i in range(num_of_pictures):\n",
    "#         try:\n",
    "#             x_data.append(circleify_center(np.copy(blank)))\n",
    "#             y_data.append(2)\n",
    "#             num_circle += 1\n",
    "#         except:\n",
    "#             pass\n",
    "#     print('num_circle', num_circle)\n",
    "    \n",
    "# ### triangular\n",
    "# num_tri = 0\n",
    "# if loop_num == 0 or loop_num > 0:\n",
    "#     for i in range(num_of_pictures):\n",
    "#         try:\n",
    "#             x_data.append(triangulify_center(np.copy(blank)))\n",
    "#             y_data.append(3)\n",
    "#             num_tri += 1\n",
    "#         except:\n",
    "#             pass\n",
    "#     print('num_tri', num_tri)\n",
    "    \n",
    "# ### noise\n",
    "# num_noise = 0\n",
    "# if loop_num == 0 or loop_num > 0:\n",
    "#     for i in range(num_of_pictures):\n",
    "#         try:\n",
    "#             x_data.append(noiseify())\n",
    "#             y_data.append(4)\n",
    "#             num_noise += 1\n",
    "#         except:\n",
    "#             pass\n",
    "#     print('num_noise', num_noise)"
   ]
  },
  {
   "cell_type": "code",
   "execution_count": 33,
   "metadata": {
    "collapsed": false
   },
   "outputs": [],
   "source": [
    "# plt.imshow(lineify(np.copy(X_train[0]))[0])\n",
    "# plt.show()"
   ]
  },
  {
   "cell_type": "code",
   "execution_count": 34,
   "metadata": {
    "collapsed": false
   },
   "outputs": [
    {
     "data": {
      "text/plain": [
       "(180, 1, 28, 28)"
      ]
     },
     "execution_count": 34,
     "metadata": {},
     "output_type": "execute_result"
    }
   ],
   "source": [
    "nb_classes = y_val+1\n",
    "\n",
    "X_train_new = np.array(x_data)\n",
    "y_train_new = np.array(y_data)\n",
    "Y_train_new = np_utils.to_categorical(y_train_new, nb_classes)\n",
    "X_train_new.shape"
   ]
  },
  {
   "cell_type": "code",
   "execution_count": 35,
   "metadata": {
    "collapsed": false
   },
   "outputs": [],
   "source": [
    "# plt.imshow(X_train_new[0].squeeze())\n",
    "# plt.show()"
   ]
  },
  {
   "cell_type": "code",
   "execution_count": 36,
   "metadata": {
    "collapsed": false
   },
   "outputs": [],
   "source": [
    "import random\n",
    "s=list(range(X_train_new.shape[0]))\n",
    "random.shuffle(s) \n",
    "X2 = X_train_new[s]+np.random.random(X_train_new.shape)*0.01\n",
    "Y2 = Y_train_new[s]"
   ]
  },
  {
   "cell_type": "code",
   "execution_count": 37,
   "metadata": {
    "collapsed": false
   },
   "outputs": [
    {
     "data": {
      "text/plain": [
       "(180, 18)"
      ]
     },
     "execution_count": 37,
     "metadata": {},
     "output_type": "execute_result"
    }
   ],
   "source": [
    "X2.shape\n",
    "Y2.shape"
   ]
  },
  {
   "cell_type": "markdown",
   "metadata": {},
   "source": [
    "**MNIST model has been converted to functional API, need to load MNIST weights here**"
   ]
  },
  {
   "cell_type": "code",
   "execution_count": 38,
   "metadata": {
    "collapsed": false
   },
   "outputs": [],
   "source": [
    "batch_size = 8 #32\n",
    "nb_epoch = 100 #5*2\n",
    "\n",
    "# input image dimensions\n",
    "img_rows, img_cols = 28, 28\n",
    "WIDTH = 64*2\n",
    "num_layers = 8\n",
    "\n",
    "input = Input(batch_shape=(batch_size, 1, img_rows, img_cols))\n",
    "# L0 = Flatten()(input)\n",
    "# L1 = Dense(WIDTH,activation='tanh')(L0)\n",
    "# L1 = BatchNormalization(mode=2)(L1)\n",
    "# m = L1\n",
    "# #L2 = Dense(WIDTH,activation='sigmoid')(L1)\n",
    "# for i in range(num_layers):\n",
    "#     m = BatchNormalization(mode=2)(m)\n",
    "#     m = Dense(WIDTH/2,activation='tanh')(m)\n",
    "    \n",
    "# m = BatchNormalization(mode=2)(m)\n",
    "# m = Dense(WIDTH,activation='tanh')(m)\n",
    "# #L3 = merge([model,L1],mode='concat')\n",
    "# L3 = Dense(WIDTH,activation='linear')(m)\n",
    "# L3 = BatchNormalization(mode=2)(L3)\n",
    "# final = Dense(nb_classes,activation='softmax')(L3)\n",
    "# model = Model(input=input,output=[final], name='m2_snn')\n",
    "# # firstlayer = Model(input=input,output=L1)\n",
    "# # lastlayer = Model(input=input,output=L3)\n",
    "\n",
    "m = Flatten()(input)\n",
    "m = Dense(WIDTH, activation='tanh')(m)\n",
    "# m = Dropout(0.2)(m)\n",
    "m = Dense(WIDTH, activation='tanh')(m)\n",
    "m = Dense(nb_classes, activation='softmax')(m)\n",
    "\n",
    "model = Model(input=input, output=[m])\n",
    "\n",
    "model.compile(loss='categorical_crossentropy',\n",
    "              optimizer='sgd',\n",
    "              metrics=['accuracy'])"
   ]
  },
  {
   "cell_type": "code",
   "execution_count": 39,
   "metadata": {
    "collapsed": false
   },
   "outputs": [],
   "source": [
    "# modelone.__dict__"
   ]
  },
  {
   "cell_type": "code",
   "execution_count": 40,
   "metadata": {
    "collapsed": false,
    "scrolled": true
   },
   "outputs": [
    {
     "name": "stdout",
     "output_type": "stream",
     "text": [
      "____________________________________________________________________________________________________\n",
      "Layer (type)                     Output Shape          Param #     Connected to                     \n",
      "====================================================================================================\n",
      "input_3 (InputLayer)             (8, 1, 28, 28)        0                                            \n",
      "____________________________________________________________________________________________________\n",
      "flatten_3 (Flatten)              (8, 784)              0           input_3[0][0]                    \n",
      "____________________________________________________________________________________________________\n",
      "dense_7 (Dense)                  (8, 128)              100480      flatten_3[0][0]                  \n",
      "____________________________________________________________________________________________________\n",
      "dense_8 (Dense)                  (8, 128)              16512       dense_7[0][0]                    \n",
      "____________________________________________________________________________________________________\n",
      "dense_9 (Dense)                  (8, 18)               2322        dense_8[0][0]                    \n",
      "====================================================================================================\n",
      "Total params: 119314\n",
      "____________________________________________________________________________________________________\n",
      "None\n"
     ]
    }
   ],
   "source": [
    "print(model.summary())"
   ]
  },
  {
   "cell_type": "markdown",
   "metadata": {},
   "source": [
    "**Have not tried to run anything below this point!**"
   ]
  },
  {
   "cell_type": "code",
   "execution_count": 41,
   "metadata": {
    "collapsed": false,
    "scrolled": true
   },
   "outputs": [
    {
     "name": "stdout",
     "output_type": "stream",
     "text": [
      "Train on 144 samples, validate on 36 samples\n",
      "Epoch 1/100\n",
      "Epoch 00000: val_loss improved from inf to 2.48054, saving model to /Users/fredhohman/Desktop/pnnl/ubuntu-vm/Desktop/Github/pnnl-summer-research-notes/output/mnist_box_shape_snn0.hdf5\n",
      "0s - loss: 2.6995 - acc: 0.1806 - val_loss: 2.4805 - val_acc: 0.1944\n",
      "Epoch 2/100\n",
      "Epoch 00001: val_loss improved from 2.48054 to 2.09753, saving model to /Users/fredhohman/Desktop/pnnl/ubuntu-vm/Desktop/Github/pnnl-summer-research-notes/output/mnist_box_shape_snn0.hdf5\n",
      "0s - loss: 2.2017 - acc: 0.4792 - val_loss: 2.0975 - val_acc: 0.4722\n",
      "Epoch 3/100\n",
      "Epoch 00002: val_loss improved from 2.09753 to 1.79077, saving model to /Users/fredhohman/Desktop/pnnl/ubuntu-vm/Desktop/Github/pnnl-summer-research-notes/output/mnist_box_shape_snn0.hdf5\n",
      "0s - loss: 1.8480 - acc: 0.6806 - val_loss: 1.7908 - val_acc: 0.5833\n",
      "Epoch 4/100\n",
      "Epoch 00003: val_loss improved from 1.79077 to 1.56357, saving model to /Users/fredhohman/Desktop/pnnl/ubuntu-vm/Desktop/Github/pnnl-summer-research-notes/output/mnist_box_shape_snn0.hdf5\n",
      "0s - loss: 1.5694 - acc: 0.7778 - val_loss: 1.5636 - val_acc: 0.6389\n",
      "Epoch 5/100\n",
      "Epoch 00004: val_loss improved from 1.56357 to 1.34269, saving model to /Users/fredhohman/Desktop/pnnl/ubuntu-vm/Desktop/Github/pnnl-summer-research-notes/output/mnist_box_shape_snn0.hdf5\n",
      "0s - loss: 1.3497 - acc: 0.7778 - val_loss: 1.3427 - val_acc: 0.7222\n",
      "Epoch 6/100\n",
      "Epoch 00005: val_loss improved from 1.34269 to 1.18934, saving model to /Users/fredhohman/Desktop/pnnl/ubuntu-vm/Desktop/Github/pnnl-summer-research-notes/output/mnist_box_shape_snn0.hdf5\n",
      "0s - loss: 1.1667 - acc: 0.8056 - val_loss: 1.1893 - val_acc: 0.6667\n",
      "Epoch 7/100\n",
      "Epoch 00006: val_loss improved from 1.18934 to 1.05488, saving model to /Users/fredhohman/Desktop/pnnl/ubuntu-vm/Desktop/Github/pnnl-summer-research-notes/output/mnist_box_shape_snn0.hdf5\n",
      "0s - loss: 1.0214 - acc: 0.8542 - val_loss: 1.0549 - val_acc: 0.8056\n",
      "Epoch 8/100\n",
      "Epoch 00007: val_loss improved from 1.05488 to 0.94061, saving model to /Users/fredhohman/Desktop/pnnl/ubuntu-vm/Desktop/Github/pnnl-summer-research-notes/output/mnist_box_shape_snn0.hdf5\n",
      "0s - loss: 0.9030 - acc: 0.9167 - val_loss: 0.9406 - val_acc: 0.8889\n",
      "Epoch 9/100\n",
      "Epoch 00008: val_loss improved from 0.94061 to 0.85669, saving model to /Users/fredhohman/Desktop/pnnl/ubuntu-vm/Desktop/Github/pnnl-summer-research-notes/output/mnist_box_shape_snn0.hdf5\n",
      "0s - loss: 0.8001 - acc: 0.9167 - val_loss: 0.8567 - val_acc: 0.9167\n",
      "Epoch 10/100\n",
      "Epoch 00009: val_loss improved from 0.85669 to 0.76036, saving model to /Users/fredhohman/Desktop/pnnl/ubuntu-vm/Desktop/Github/pnnl-summer-research-notes/output/mnist_box_shape_snn0.hdf5\n",
      "0s - loss: 0.7150 - acc: 0.9444 - val_loss: 0.7604 - val_acc: 0.9722\n",
      "Epoch 11/100\n",
      "Epoch 00010: val_loss improved from 0.76036 to 0.70548, saving model to /Users/fredhohman/Desktop/pnnl/ubuntu-vm/Desktop/Github/pnnl-summer-research-notes/output/mnist_box_shape_snn0.hdf5\n",
      "0s - loss: 0.6444 - acc: 0.9861 - val_loss: 0.7055 - val_acc: 0.9167\n",
      "Epoch 12/100\n",
      "Epoch 00011: val_loss improved from 0.70548 to 0.63975, saving model to /Users/fredhohman/Desktop/pnnl/ubuntu-vm/Desktop/Github/pnnl-summer-research-notes/output/mnist_box_shape_snn0.hdf5\n",
      "0s - loss: 0.5840 - acc: 0.9861 - val_loss: 0.6398 - val_acc: 0.9167\n",
      "Epoch 13/100\n",
      "Epoch 00012: val_loss improved from 0.63975 to 0.57813, saving model to /Users/fredhohman/Desktop/pnnl/ubuntu-vm/Desktop/Github/pnnl-summer-research-notes/output/mnist_box_shape_snn0.hdf5\n",
      "0s - loss: 0.5320 - acc: 0.9792 - val_loss: 0.5781 - val_acc: 0.9722\n",
      "Epoch 14/100\n",
      "Epoch 00013: val_loss improved from 0.57813 to 0.53024, saving model to /Users/fredhohman/Desktop/pnnl/ubuntu-vm/Desktop/Github/pnnl-summer-research-notes/output/mnist_box_shape_snn0.hdf5\n",
      "0s - loss: 0.4820 - acc: 1.0000 - val_loss: 0.5302 - val_acc: 0.9722\n",
      "Epoch 15/100\n",
      "Epoch 00014: val_loss improved from 0.53024 to 0.50149, saving model to /Users/fredhohman/Desktop/pnnl/ubuntu-vm/Desktop/Github/pnnl-summer-research-notes/output/mnist_box_shape_snn0.hdf5\n",
      "0s - loss: 0.4409 - acc: 0.9931 - val_loss: 0.5015 - val_acc: 0.9167\n",
      "Epoch 16/100\n",
      "Epoch 00015: val_loss improved from 0.50149 to 0.45113, saving model to /Users/fredhohman/Desktop/pnnl/ubuntu-vm/Desktop/Github/pnnl-summer-research-notes/output/mnist_box_shape_snn0.hdf5\n",
      "0s - loss: 0.4072 - acc: 0.9792 - val_loss: 0.4511 - val_acc: 0.9722\n",
      "Epoch 17/100\n",
      "Epoch 00016: val_loss improved from 0.45113 to 0.41630, saving model to /Users/fredhohman/Desktop/pnnl/ubuntu-vm/Desktop/Github/pnnl-summer-research-notes/output/mnist_box_shape_snn0.hdf5\n",
      "0s - loss: 0.3744 - acc: 1.0000 - val_loss: 0.4163 - val_acc: 0.9722\n",
      "Epoch 18/100\n",
      "Epoch 00017: val_loss improved from 0.41630 to 0.39471, saving model to /Users/fredhohman/Desktop/pnnl/ubuntu-vm/Desktop/Github/pnnl-summer-research-notes/output/mnist_box_shape_snn0.hdf5\n",
      "0s - loss: 0.3531 - acc: 1.0000 - val_loss: 0.3947 - val_acc: 0.9722\n",
      "Epoch 19/100\n",
      "Epoch 00018: val_loss improved from 0.39471 to 0.36708, saving model to /Users/fredhohman/Desktop/pnnl/ubuntu-vm/Desktop/Github/pnnl-summer-research-notes/output/mnist_box_shape_snn0.hdf5\n",
      "0s - loss: 0.3250 - acc: 1.0000 - val_loss: 0.3671 - val_acc: 0.9722\n",
      "Epoch 20/100\n",
      "Epoch 00019: val_loss improved from 0.36708 to 0.34725, saving model to /Users/fredhohman/Desktop/pnnl/ubuntu-vm/Desktop/Github/pnnl-summer-research-notes/output/mnist_box_shape_snn0.hdf5\n",
      "0s - loss: 0.3014 - acc: 1.0000 - val_loss: 0.3472 - val_acc: 0.9722\n",
      "Epoch 21/100\n",
      "Epoch 00020: val_loss improved from 0.34725 to 0.32676, saving model to /Users/fredhohman/Desktop/pnnl/ubuntu-vm/Desktop/Github/pnnl-summer-research-notes/output/mnist_box_shape_snn0.hdf5\n",
      "0s - loss: 0.2813 - acc: 1.0000 - val_loss: 0.3268 - val_acc: 0.9722\n",
      "Epoch 22/100\n",
      "Epoch 00021: val_loss improved from 0.32676 to 0.31034, saving model to /Users/fredhohman/Desktop/pnnl/ubuntu-vm/Desktop/Github/pnnl-summer-research-notes/output/mnist_box_shape_snn0.hdf5\n",
      "0s - loss: 0.2648 - acc: 1.0000 - val_loss: 0.3103 - val_acc: 0.9722\n",
      "Epoch 23/100\n",
      "Epoch 00022: val_loss improved from 0.31034 to 0.29287, saving model to /Users/fredhohman/Desktop/pnnl/ubuntu-vm/Desktop/Github/pnnl-summer-research-notes/output/mnist_box_shape_snn0.hdf5\n",
      "0s - loss: 0.2457 - acc: 1.0000 - val_loss: 0.2929 - val_acc: 0.9722\n",
      "Epoch 24/100\n",
      "Epoch 00023: val_loss improved from 0.29287 to 0.28748, saving model to /Users/fredhohman/Desktop/pnnl/ubuntu-vm/Desktop/Github/pnnl-summer-research-notes/output/mnist_box_shape_snn0.hdf5\n",
      "0s - loss: 0.2329 - acc: 1.0000 - val_loss: 0.2875 - val_acc: 0.9444\n",
      "Epoch 25/100\n",
      "Epoch 00024: val_loss improved from 0.28748 to 0.26949, saving model to /Users/fredhohman/Desktop/pnnl/ubuntu-vm/Desktop/Github/pnnl-summer-research-notes/output/mnist_box_shape_snn0.hdf5\n",
      "0s - loss: 0.2204 - acc: 1.0000 - val_loss: 0.2695 - val_acc: 0.9722\n",
      "Epoch 26/100\n",
      "Epoch 00025: val_loss improved from 0.26949 to 0.25663, saving model to /Users/fredhohman/Desktop/pnnl/ubuntu-vm/Desktop/Github/pnnl-summer-research-notes/output/mnist_box_shape_snn0.hdf5\n",
      "0s - loss: 0.2068 - acc: 1.0000 - val_loss: 0.2566 - val_acc: 0.9722\n",
      "Epoch 27/100\n",
      "Epoch 00026: val_loss improved from 0.25663 to 0.24970, saving model to /Users/fredhohman/Desktop/pnnl/ubuntu-vm/Desktop/Github/pnnl-summer-research-notes/output/mnist_box_shape_snn0.hdf5\n",
      "0s - loss: 0.1982 - acc: 1.0000 - val_loss: 0.2497 - val_acc: 0.9722\n",
      "Epoch 28/100\n",
      "Epoch 00027: val_loss improved from 0.24970 to 0.23960, saving model to /Users/fredhohman/Desktop/pnnl/ubuntu-vm/Desktop/Github/pnnl-summer-research-notes/output/mnist_box_shape_snn0.hdf5\n",
      "0s - loss: 0.1863 - acc: 1.0000 - val_loss: 0.2396 - val_acc: 0.9722\n",
      "Epoch 29/100\n",
      "Epoch 00028: val_loss improved from 0.23960 to 0.23259, saving model to /Users/fredhohman/Desktop/pnnl/ubuntu-vm/Desktop/Github/pnnl-summer-research-notes/output/mnist_box_shape_snn0.hdf5\n",
      "0s - loss: 0.1768 - acc: 1.0000 - val_loss: 0.2326 - val_acc: 0.9722\n",
      "Epoch 30/100\n",
      "Epoch 00029: val_loss improved from 0.23259 to 0.22690, saving model to /Users/fredhohman/Desktop/pnnl/ubuntu-vm/Desktop/Github/pnnl-summer-research-notes/output/mnist_box_shape_snn0.hdf5\n",
      "0s - loss: 0.1673 - acc: 1.0000 - val_loss: 0.2269 - val_acc: 0.9722\n",
      "Epoch 31/100\n",
      "Epoch 00030: val_loss improved from 0.22690 to 0.21913, saving model to /Users/fredhohman/Desktop/pnnl/ubuntu-vm/Desktop/Github/pnnl-summer-research-notes/output/mnist_box_shape_snn0.hdf5\n",
      "0s - loss: 0.1605 - acc: 1.0000 - val_loss: 0.2191 - val_acc: 0.9722\n",
      "Epoch 32/100\n",
      "Epoch 00031: val_loss improved from 0.21913 to 0.21029, saving model to /Users/fredhohman/Desktop/pnnl/ubuntu-vm/Desktop/Github/pnnl-summer-research-notes/output/mnist_box_shape_snn0.hdf5\n",
      "0s - loss: 0.1522 - acc: 1.0000 - val_loss: 0.2103 - val_acc: 0.9722\n",
      "Epoch 33/100\n",
      "Epoch 00032: val_loss improved from 0.21029 to 0.20751, saving model to /Users/fredhohman/Desktop/pnnl/ubuntu-vm/Desktop/Github/pnnl-summer-research-notes/output/mnist_box_shape_snn0.hdf5\n",
      "0s - loss: 0.1458 - acc: 1.0000 - val_loss: 0.2075 - val_acc: 0.9722\n",
      "Epoch 34/100\n",
      "Epoch 00033: val_loss improved from 0.20751 to 0.20021, saving model to /Users/fredhohman/Desktop/pnnl/ubuntu-vm/Desktop/Github/pnnl-summer-research-notes/output/mnist_box_shape_snn0.hdf5\n",
      "0s - loss: 0.1405 - acc: 1.0000 - val_loss: 0.2002 - val_acc: 0.9722\n",
      "Epoch 35/100\n",
      "Epoch 00034: val_loss improved from 0.20021 to 0.19434, saving model to /Users/fredhohman/Desktop/pnnl/ubuntu-vm/Desktop/Github/pnnl-summer-research-notes/output/mnist_box_shape_snn0.hdf5\n",
      "0s - loss: 0.1335 - acc: 1.0000 - val_loss: 0.1943 - val_acc: 0.9722\n",
      "Epoch 36/100\n",
      "Epoch 00035: val_loss improved from 0.19434 to 0.18935, saving model to /Users/fredhohman/Desktop/pnnl/ubuntu-vm/Desktop/Github/pnnl-summer-research-notes/output/mnist_box_shape_snn0.hdf5\n",
      "0s - loss: 0.1275 - acc: 1.0000 - val_loss: 0.1894 - val_acc: 0.9722\n",
      "Epoch 37/100\n",
      "Epoch 00036: val_loss improved from 0.18935 to 0.18577, saving model to /Users/fredhohman/Desktop/pnnl/ubuntu-vm/Desktop/Github/pnnl-summer-research-notes/output/mnist_box_shape_snn0.hdf5\n",
      "0s - loss: 0.1224 - acc: 1.0000 - val_loss: 0.1858 - val_acc: 0.9722\n",
      "Epoch 38/100\n",
      "Epoch 00037: val_loss improved from 0.18577 to 0.18385, saving model to /Users/fredhohman/Desktop/pnnl/ubuntu-vm/Desktop/Github/pnnl-summer-research-notes/output/mnist_box_shape_snn0.hdf5\n",
      "0s - loss: 0.1177 - acc: 1.0000 - val_loss: 0.1838 - val_acc: 0.9722\n",
      "Epoch 39/100\n",
      "Epoch 00038: val_loss improved from 0.18385 to 0.17820, saving model to /Users/fredhohman/Desktop/pnnl/ubuntu-vm/Desktop/Github/pnnl-summer-research-notes/output/mnist_box_shape_snn0.hdf5\n",
      "0s - loss: 0.1139 - acc: 1.0000 - val_loss: 0.1782 - val_acc: 0.9722\n",
      "Epoch 40/100\n",
      "Epoch 00039: val_loss improved from 0.17820 to 0.17532, saving model to /Users/fredhohman/Desktop/pnnl/ubuntu-vm/Desktop/Github/pnnl-summer-research-notes/output/mnist_box_shape_snn0.hdf5\n",
      "0s - loss: 0.1091 - acc: 1.0000 - val_loss: 0.1753 - val_acc: 0.9722\n",
      "Epoch 41/100\n",
      "Epoch 00040: val_loss improved from 0.17532 to 0.17223, saving model to /Users/fredhohman/Desktop/pnnl/ubuntu-vm/Desktop/Github/pnnl-summer-research-notes/output/mnist_box_shape_snn0.hdf5\n",
      "0s - loss: 0.1055 - acc: 1.0000 - val_loss: 0.1722 - val_acc: 0.9722\n",
      "Epoch 42/100\n",
      "Epoch 00041: val_loss improved from 0.17223 to 0.16925, saving model to /Users/fredhohman/Desktop/pnnl/ubuntu-vm/Desktop/Github/pnnl-summer-research-notes/output/mnist_box_shape_snn0.hdf5\n",
      "0s - loss: 0.1013 - acc: 1.0000 - val_loss: 0.1692 - val_acc: 0.9722\n",
      "Epoch 43/100\n",
      "Epoch 00042: val_loss improved from 0.16925 to 0.16695, saving model to /Users/fredhohman/Desktop/pnnl/ubuntu-vm/Desktop/Github/pnnl-summer-research-notes/output/mnist_box_shape_snn0.hdf5\n",
      "0s - loss: 0.0981 - acc: 1.0000 - val_loss: 0.1669 - val_acc: 0.9722\n",
      "Epoch 44/100\n",
      "Epoch 00043: val_loss improved from 0.16695 to 0.16430, saving model to /Users/fredhohman/Desktop/pnnl/ubuntu-vm/Desktop/Github/pnnl-summer-research-notes/output/mnist_box_shape_snn0.hdf5\n",
      "0s - loss: 0.0942 - acc: 1.0000 - val_loss: 0.1643 - val_acc: 0.9722\n",
      "Epoch 45/100\n",
      "Epoch 00044: val_loss improved from 0.16430 to 0.16208, saving model to /Users/fredhohman/Desktop/pnnl/ubuntu-vm/Desktop/Github/pnnl-summer-research-notes/output/mnist_box_shape_snn0.hdf5\n",
      "0s - loss: 0.0910 - acc: 1.0000 - val_loss: 0.1621 - val_acc: 0.9722\n",
      "Epoch 46/100\n",
      "Epoch 00045: val_loss improved from 0.16208 to 0.15995, saving model to /Users/fredhohman/Desktop/pnnl/ubuntu-vm/Desktop/Github/pnnl-summer-research-notes/output/mnist_box_shape_snn0.hdf5\n",
      "0s - loss: 0.0881 - acc: 1.0000 - val_loss: 0.1599 - val_acc: 0.9722\n",
      "Epoch 47/100\n",
      "Epoch 00046: val_loss improved from 0.15995 to 0.15805, saving model to /Users/fredhohman/Desktop/pnnl/ubuntu-vm/Desktop/Github/pnnl-summer-research-notes/output/mnist_box_shape_snn0.hdf5\n",
      "0s - loss: 0.0845 - acc: 1.0000 - val_loss: 0.1580 - val_acc: 0.9722\n",
      "Epoch 48/100\n",
      "Epoch 00047: val_loss improved from 0.15805 to 0.15597, saving model to /Users/fredhohman/Desktop/pnnl/ubuntu-vm/Desktop/Github/pnnl-summer-research-notes/output/mnist_box_shape_snn0.hdf5\n",
      "0s - loss: 0.0826 - acc: 1.0000 - val_loss: 0.1560 - val_acc: 0.9722\n",
      "Epoch 49/100\n",
      "Epoch 00048: val_loss improved from 0.15597 to 0.15424, saving model to /Users/fredhohman/Desktop/pnnl/ubuntu-vm/Desktop/Github/pnnl-summer-research-notes/output/mnist_box_shape_snn0.hdf5\n",
      "0s - loss: 0.0801 - acc: 1.0000 - val_loss: 0.1542 - val_acc: 0.9722\n",
      "Epoch 50/100\n",
      "Epoch 00049: val_loss improved from 0.15424 to 0.15282, saving model to /Users/fredhohman/Desktop/pnnl/ubuntu-vm/Desktop/Github/pnnl-summer-research-notes/output/mnist_box_shape_snn0.hdf5\n",
      "0s - loss: 0.0775 - acc: 1.0000 - val_loss: 0.1528 - val_acc: 0.9722\n",
      "Epoch 51/100\n",
      "Epoch 00050: val_loss improved from 0.15282 to 0.15103, saving model to /Users/fredhohman/Desktop/pnnl/ubuntu-vm/Desktop/Github/pnnl-summer-research-notes/output/mnist_box_shape_snn0.hdf5\n",
      "0s - loss: 0.0750 - acc: 1.0000 - val_loss: 0.1510 - val_acc: 0.9722\n",
      "Epoch 52/100\n",
      "Epoch 00051: val_loss improved from 0.15103 to 0.14966, saving model to /Users/fredhohman/Desktop/pnnl/ubuntu-vm/Desktop/Github/pnnl-summer-research-notes/output/mnist_box_shape_snn0.hdf5\n",
      "0s - loss: 0.0727 - acc: 1.0000 - val_loss: 0.1497 - val_acc: 0.9722\n",
      "Epoch 53/100\n",
      "Epoch 00052: val_loss improved from 0.14966 to 0.14847, saving model to /Users/fredhohman/Desktop/pnnl/ubuntu-vm/Desktop/Github/pnnl-summer-research-notes/output/mnist_box_shape_snn0.hdf5\n",
      "0s - loss: 0.0709 - acc: 1.0000 - val_loss: 0.1485 - val_acc: 0.9722\n",
      "Epoch 54/100\n",
      "Epoch 00053: val_loss improved from 0.14847 to 0.14734, saving model to /Users/fredhohman/Desktop/pnnl/ubuntu-vm/Desktop/Github/pnnl-summer-research-notes/output/mnist_box_shape_snn0.hdf5\n",
      "0s - loss: 0.0687 - acc: 1.0000 - val_loss: 0.1473 - val_acc: 0.9722\n",
      "Epoch 55/100\n",
      "Epoch 00054: val_loss improved from 0.14734 to 0.14656, saving model to /Users/fredhohman/Desktop/pnnl/ubuntu-vm/Desktop/Github/pnnl-summer-research-notes/output/mnist_box_shape_snn0.hdf5\n",
      "0s - loss: 0.0673 - acc: 1.0000 - val_loss: 0.1466 - val_acc: 0.9722\n",
      "Epoch 56/100\n",
      "Epoch 00055: val_loss improved from 0.14656 to 0.14605, saving model to /Users/fredhohman/Desktop/pnnl/ubuntu-vm/Desktop/Github/pnnl-summer-research-notes/output/mnist_box_shape_snn0.hdf5\n",
      "0s - loss: 0.0649 - acc: 1.0000 - val_loss: 0.1461 - val_acc: 0.9722\n",
      "Epoch 57/100\n",
      "Epoch 00056: val_loss improved from 0.14605 to 0.14446, saving model to /Users/fredhohman/Desktop/pnnl/ubuntu-vm/Desktop/Github/pnnl-summer-research-notes/output/mnist_box_shape_snn0.hdf5\n",
      "0s - loss: 0.0633 - acc: 1.0000 - val_loss: 0.1445 - val_acc: 0.9722\n",
      "Epoch 58/100\n",
      "Epoch 00057: val_loss improved from 0.14446 to 0.14318, saving model to /Users/fredhohman/Desktop/pnnl/ubuntu-vm/Desktop/Github/pnnl-summer-research-notes/output/mnist_box_shape_snn0.hdf5\n",
      "0s - loss: 0.0616 - acc: 1.0000 - val_loss: 0.1432 - val_acc: 0.9722\n",
      "Epoch 59/100\n",
      "Epoch 00058: val_loss improved from 0.14318 to 0.14237, saving model to /Users/fredhohman/Desktop/pnnl/ubuntu-vm/Desktop/Github/pnnl-summer-research-notes/output/mnist_box_shape_snn0.hdf5\n",
      "0s - loss: 0.0607 - acc: 1.0000 - val_loss: 0.1424 - val_acc: 0.9722\n",
      "Epoch 60/100\n",
      "Epoch 00059: val_loss improved from 0.14237 to 0.14229, saving model to /Users/fredhohman/Desktop/pnnl/ubuntu-vm/Desktop/Github/pnnl-summer-research-notes/output/mnist_box_shape_snn0.hdf5\n",
      "0s - loss: 0.0586 - acc: 1.0000 - val_loss: 0.1423 - val_acc: 0.9722\n",
      "Epoch 61/100\n",
      "Epoch 00060: val_loss improved from 0.14229 to 0.14153, saving model to /Users/fredhohman/Desktop/pnnl/ubuntu-vm/Desktop/Github/pnnl-summer-research-notes/output/mnist_box_shape_snn0.hdf5\n",
      "0s - loss: 0.0571 - acc: 1.0000 - val_loss: 0.1415 - val_acc: 0.9722\n",
      "Epoch 62/100\n",
      "Epoch 00061: val_loss did not improve\n",
      "0s - loss: 0.0560 - acc: 1.0000 - val_loss: 0.1419 - val_acc: 0.9722\n",
      "Epoch 63/100\n",
      "Epoch 00062: val_loss improved from 0.14153 to 0.13972, saving model to /Users/fredhohman/Desktop/pnnl/ubuntu-vm/Desktop/Github/pnnl-summer-research-notes/output/mnist_box_shape_snn0.hdf5\n",
      "0s - loss: 0.0544 - acc: 1.0000 - val_loss: 0.1397 - val_acc: 0.9722\n",
      "Epoch 64/100\n",
      "Epoch 00063: val_loss improved from 0.13972 to 0.13932, saving model to /Users/fredhohman/Desktop/pnnl/ubuntu-vm/Desktop/Github/pnnl-summer-research-notes/output/mnist_box_shape_snn0.hdf5\n",
      "0s - loss: 0.0532 - acc: 1.0000 - val_loss: 0.1393 - val_acc: 0.9722\n",
      "Epoch 65/100\n",
      "Epoch 00064: val_loss did not improve\n",
      "0s - loss: 0.0516 - acc: 1.0000 - val_loss: 0.1411 - val_acc: 0.9722\n",
      "Epoch 66/100\n",
      "Epoch 00065: val_loss did not improve\n",
      "0s - loss: 0.0508 - acc: 1.0000 - val_loss: 0.1404 - val_acc: 0.9722\n",
      "Epoch 67/100\n",
      "Epoch 00066: val_loss did not improve\n",
      "0s - loss: 0.0496 - acc: 1.0000 - val_loss: 0.1399 - val_acc: 0.9722\n",
      "Epoch 68/100\n",
      "Epoch 00067: val_loss improved from 0.13932 to 0.13893, saving model to /Users/fredhohman/Desktop/pnnl/ubuntu-vm/Desktop/Github/pnnl-summer-research-notes/output/mnist_box_shape_snn0.hdf5\n",
      "0s - loss: 0.0485 - acc: 1.0000 - val_loss: 0.1389 - val_acc: 0.9722\n",
      "Epoch 69/100\n",
      "Epoch 00068: val_loss improved from 0.13893 to 0.13768, saving model to /Users/fredhohman/Desktop/pnnl/ubuntu-vm/Desktop/Github/pnnl-summer-research-notes/output/mnist_box_shape_snn0.hdf5\n",
      "0s - loss: 0.0477 - acc: 1.0000 - val_loss: 0.1377 - val_acc: 0.9722\n",
      "Epoch 70/100\n",
      "Epoch 00069: val_loss improved from 0.13768 to 0.13641, saving model to /Users/fredhohman/Desktop/pnnl/ubuntu-vm/Desktop/Github/pnnl-summer-research-notes/output/mnist_box_shape_snn0.hdf5\n",
      "0s - loss: 0.0464 - acc: 1.0000 - val_loss: 0.1364 - val_acc: 0.9722\n",
      "Epoch 71/100\n",
      "Epoch 00070: val_loss improved from 0.13641 to 0.13615, saving model to /Users/fredhohman/Desktop/pnnl/ubuntu-vm/Desktop/Github/pnnl-summer-research-notes/output/mnist_box_shape_snn0.hdf5\n",
      "0s - loss: 0.0455 - acc: 1.0000 - val_loss: 0.1361 - val_acc: 0.9722\n",
      "Epoch 72/100\n",
      "Epoch 00071: val_loss did not improve\n",
      "0s - loss: 0.0446 - acc: 1.0000 - val_loss: 0.1366 - val_acc: 0.9722\n",
      "Epoch 73/100\n",
      "Epoch 00072: val_loss improved from 0.13615 to 0.13500, saving model to /Users/fredhohman/Desktop/pnnl/ubuntu-vm/Desktop/Github/pnnl-summer-research-notes/output/mnist_box_shape_snn0.hdf5\n",
      "0s - loss: 0.0436 - acc: 1.0000 - val_loss: 0.1350 - val_acc: 0.9722\n",
      "Epoch 74/100\n",
      "Epoch 00073: val_loss did not improve\n",
      "0s - loss: 0.0428 - acc: 1.0000 - val_loss: 0.1354 - val_acc: 0.9722\n",
      "Epoch 75/100\n",
      "Epoch 00074: val_loss did not improve\n",
      "0s - loss: 0.0419 - acc: 1.0000 - val_loss: 0.1351 - val_acc: 0.9722\n",
      "Epoch 76/100\n",
      "Epoch 00075: val_loss improved from 0.13500 to 0.13481, saving model to /Users/fredhohman/Desktop/pnnl/ubuntu-vm/Desktop/Github/pnnl-summer-research-notes/output/mnist_box_shape_snn0.hdf5\n",
      "0s - loss: 0.0411 - acc: 1.0000 - val_loss: 0.1348 - val_acc: 0.9722\n",
      "Epoch 77/100\n",
      "Epoch 00076: val_loss did not improve\n",
      "0s - loss: 0.0402 - acc: 1.0000 - val_loss: 0.1352 - val_acc: 0.9722\n",
      "Epoch 78/100\n",
      "Epoch 00077: val_loss did not improve\n",
      "0s - loss: 0.0395 - acc: 1.0000 - val_loss: 0.1350 - val_acc: 0.9722\n",
      "Epoch 79/100\n",
      "Epoch 00078: val_loss improved from 0.13481 to 0.13377, saving model to /Users/fredhohman/Desktop/pnnl/ubuntu-vm/Desktop/Github/pnnl-summer-research-notes/output/mnist_box_shape_snn0.hdf5\n",
      "0s - loss: 0.0388 - acc: 1.0000 - val_loss: 0.1338 - val_acc: 0.9722\n",
      "Epoch 80/100\n",
      "Epoch 00079: val_loss improved from 0.13377 to 0.13332, saving model to /Users/fredhohman/Desktop/pnnl/ubuntu-vm/Desktop/Github/pnnl-summer-research-notes/output/mnist_box_shape_snn0.hdf5\n",
      "0s - loss: 0.0381 - acc: 1.0000 - val_loss: 0.1333 - val_acc: 0.9722\n",
      "Epoch 81/100\n",
      "Epoch 00080: val_loss did not improve\n",
      "0s - loss: 0.0374 - acc: 1.0000 - val_loss: 0.1355 - val_acc: 0.9722\n",
      "Epoch 82/100\n",
      "Epoch 00081: val_loss did not improve\n",
      "0s - loss: 0.0367 - acc: 1.0000 - val_loss: 0.1347 - val_acc: 0.9722\n",
      "Epoch 83/100\n",
      "Epoch 00082: val_loss did not improve\n",
      "0s - loss: 0.0362 - acc: 1.0000 - val_loss: 0.1348 - val_acc: 0.9722\n",
      "Epoch 84/100\n",
      "Epoch 00083: val_loss did not improve\n",
      "0s - loss: 0.0355 - acc: 1.0000 - val_loss: 0.1337 - val_acc: 0.9722\n",
      "Epoch 85/100\n",
      "Epoch 00084: val_loss did not improve\n",
      "0s - loss: 0.0349 - acc: 1.0000 - val_loss: 0.1334 - val_acc: 0.9722\n",
      "Epoch 86/100\n",
      "Epoch 00085: val_loss improved from 0.13332 to 0.13260, saving model to /Users/fredhohman/Desktop/pnnl/ubuntu-vm/Desktop/Github/pnnl-summer-research-notes/output/mnist_box_shape_snn0.hdf5\n",
      "0s - loss: 0.0344 - acc: 1.0000 - val_loss: 0.1326 - val_acc: 0.9722\n",
      "Epoch 87/100\n",
      "Epoch 00086: val_loss improved from 0.13260 to 0.13255, saving model to /Users/fredhohman/Desktop/pnnl/ubuntu-vm/Desktop/Github/pnnl-summer-research-notes/output/mnist_box_shape_snn0.hdf5\n",
      "0s - loss: 0.0337 - acc: 1.0000 - val_loss: 0.1325 - val_acc: 0.9722\n",
      "Epoch 88/100\n",
      "Epoch 00087: val_loss did not improve\n",
      "0s - loss: 0.0333 - acc: 1.0000 - val_loss: 0.1329 - val_acc: 0.9722\n",
      "Epoch 89/100\n",
      "Epoch 00088: val_loss did not improve\n",
      "0s - loss: 0.0327 - acc: 1.0000 - val_loss: 0.1332 - val_acc: 0.9722\n",
      "Epoch 90/100\n",
      "Epoch 00089: val_loss did not improve\n",
      "0s - loss: 0.0321 - acc: 1.0000 - val_loss: 0.1338 - val_acc: 0.9722\n",
      "Epoch 91/100\n",
      "Epoch 00090: val_loss did not improve\n",
      "0s - loss: 0.0317 - acc: 1.0000 - val_loss: 0.1342 - val_acc: 0.9722\n",
      "Epoch 92/100\n",
      "Epoch 00091: val_loss did not improve\n",
      "0s - loss: 0.0311 - acc: 1.0000 - val_loss: 0.1347 - val_acc: 0.9722\n",
      "Epoch 93/100\n",
      "Epoch 00092: val_loss did not improve\n",
      "0s - loss: 0.0307 - acc: 1.0000 - val_loss: 0.1347 - val_acc: 0.9722\n",
      "Epoch 94/100\n",
      "Epoch 00093: val_loss did not improve\n",
      "0s - loss: 0.0302 - acc: 1.0000 - val_loss: 0.1343 - val_acc: 0.9722\n",
      "Epoch 95/100\n",
      "Epoch 00094: val_loss did not improve\n",
      "0s - loss: 0.0297 - acc: 1.0000 - val_loss: 0.1341 - val_acc: 0.9722\n",
      "Epoch 96/100\n",
      "Epoch 00095: val_loss did not improve\n",
      "0s - loss: 0.0293 - acc: 1.0000 - val_loss: 0.1331 - val_acc: 0.9722\n",
      "Epoch 97/100\n",
      "Epoch 00096: val_loss did not improve\n",
      "0s - loss: 0.0289 - acc: 1.0000 - val_loss: 0.1334 - val_acc: 0.9722\n",
      "Epoch 98/100\n",
      "Epoch 00097: val_loss did not improve\n",
      "0s - loss: 0.0284 - acc: 1.0000 - val_loss: 0.1333 - val_acc: 0.9722\n",
      "Epoch 99/100\n",
      "Epoch 00098: val_loss did not improve\n",
      "0s - loss: 0.0280 - acc: 1.0000 - val_loss: 0.1338 - val_acc: 0.9722\n",
      "Epoch 100/100\n",
      "Epoch 00099: val_loss did not improve\n",
      "0s - loss: 0.0277 - acc: 1.0000 - val_loss: 0.1339 - val_acc: 0.9722\n"
     ]
    }
   ],
   "source": [
    "from keras.callbacks import ModelCheckpoint\n",
    "checkpointer = ModelCheckpoint(filepath=\"/Users/fredhohman/Desktop/pnnl/ubuntu-vm/Desktop/Github/pnnl-summer-research-notes/output/mnist_box_shape_snn\" + str(loop_num) + \".hdf5\", verbose=1, save_best_only=True)\n",
    "# earlystop = keras.callbacks.EarlyStopping(monitor='val_loss', patience=0, verbose=0, mode='auto')\n",
    "model.fit(X2,Y2,batch_size=batch_size,nb_epoch=nb_epoch,callbacks=[checkpointer],validation_split=0.2,shuffle=True, verbose=2)\n",
    "sleep(0.1)"
   ]
  },
  {
   "cell_type": "code",
   "execution_count": 42,
   "metadata": {
    "collapsed": false,
    "scrolled": false
   },
   "outputs": [],
   "source": [
    "# json_string = extractor.to_json()\n",
    "# outfile = open(\"output/mnist_box_shape_classifier_only_no_weights_ex.json\",'w')\n",
    "# outfile.write(json_string)\n",
    "# outfile.close()\n",
    "# extractor.save_weights('output/mnist_box_shape_classifier_only_no_weights_ex.h5', overwrite=True)"
   ]
  },
  {
   "cell_type": "code",
   "execution_count": 43,
   "metadata": {
    "collapsed": true
   },
   "outputs": [],
   "source": [
    "json_string = model.to_json()\n",
    "outfile = open(\"output/mnist_box_shape_snn.json\",'w')\n",
    "outfile.write(json_string)\n",
    "outfile.close()\n",
    "model.save_weights('output/mnist_box_shape_snn.h5', overwrite=True)"
   ]
  },
  {
   "cell_type": "code",
   "execution_count": 44,
   "metadata": {
    "collapsed": false,
    "scrolled": false
   },
   "outputs": [
    {
     "data": {
      "text/plain": [
       "array([[  9.77770448e-01,   5.44763869e-04,   4.16595582e-03,\n",
       "          1.51734590e-03,   2.55926629e-03,   1.99162238e-03,\n",
       "          6.96366094e-03,   1.05177816e-04,   8.55255203e-05,\n",
       "          3.72382608e-04,   1.07280706e-04,   1.99962800e-04,\n",
       "          2.53162434e-04,   6.61711441e-04,   3.62900348e-04,\n",
       "          2.16555753e-04,   3.80765414e-04,   1.74152886e-03]], dtype=float32)"
      ]
     },
     "execution_count": 44,
     "metadata": {},
     "output_type": "execute_result"
    }
   ],
   "source": [
    "index = 0\n",
    "blankp = np.zeros([1,28,28])\n",
    "# print(np.around(model.predict(boxify_center(np.copy(blankp))[None,])))\n",
    "# print(np.around(model.predict(lineify_center(np.copy(blankp))[None,])))\n",
    "# print(np.around(model.predict(circleify_center(np.copy(blankp))[None,])))\n",
    "# print(np.around(model.predict(triangulify_center(np.copy(blankp))[None,])))\n",
    "# print(np.around(model.predict(noiseify()[None,])))\n",
    "\n",
    "\n",
    "temp = np.array([boxify_top_left(np.copy(blankp))])\n",
    "model.predict(temp)"
   ]
  },
  {
   "cell_type": "code",
   "execution_count": null,
   "metadata": {
    "collapsed": false
   },
   "outputs": [],
   "source": []
  },
  {
   "cell_type": "code",
   "execution_count": null,
   "metadata": {
    "collapsed": false
   },
   "outputs": [],
   "source": []
  },
  {
   "cell_type": "code",
   "execution_count": null,
   "metadata": {
    "collapsed": true
   },
   "outputs": [],
   "source": []
  }
 ],
 "metadata": {
  "kernelspec": {
   "display_name": "Python 2",
   "language": "python",
   "name": "python2"
  },
  "language_info": {
   "codemirror_mode": {
    "name": "ipython",
    "version": 2
   },
   "file_extension": ".py",
   "mimetype": "text/x-python",
   "name": "python",
   "nbconvert_exporter": "python",
   "pygments_lexer": "ipython2",
   "version": "2.7.12"
  }
 },
 "nbformat": 4,
 "nbformat_minor": 0
}
